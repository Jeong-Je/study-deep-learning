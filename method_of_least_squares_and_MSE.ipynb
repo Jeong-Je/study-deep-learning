{
  "nbformat": 4,
  "nbformat_minor": 0,
  "metadata": {
    "colab": {
      "provenance": [],
      "authorship_tag": "ABX9TyNgW/YUztCIU3ZOM/KJ6001",
      "include_colab_link": true
    },
    "kernelspec": {
      "name": "python3",
      "display_name": "Python 3"
    },
    "language_info": {
      "name": "python"
    }
  },
  "cells": [
    {
      "cell_type": "markdown",
      "metadata": {
        "id": "view-in-github",
        "colab_type": "text"
      },
      "source": [
        "<a href=\"https://colab.research.google.com/github/Jeong-Je/study-deep-learning/blob/main/method_of_least_squares_and_MSE.ipynb\" target=\"_parent\"><img src=\"https://colab.research.google.com/assets/colab-badge.svg\" alt=\"Open In Colab\"/></a>"
      ]
    },
    {
      "cell_type": "markdown",
      "source": [
        "# method of least squares (최소 제곱)"
      ],
      "metadata": {
        "id": "rQA5bF79bnUX"
      }
    },
    {
      "cell_type": "code",
      "execution_count": 1,
      "metadata": {
        "id": "OrcGzYqyXYrp"
      },
      "outputs": [],
      "source": [
        "import numpy as np"
      ]
    },
    {
      "cell_type": "markdown",
      "source": [
        "# 공부한 시간과 점수를 각각 x,y라는 이름의 넘파이 배열로 만든다."
      ],
      "metadata": {
        "id": "w9s93csnX0sX"
      }
    },
    {
      "cell_type": "code",
      "source": [
        "x = np.array([2, 4, 6, 8])\n",
        "y = np.array([81, 93, 91 ,97])"
      ],
      "metadata": {
        "id": "sjyJ9DJxX5y_"
      },
      "execution_count": 2,
      "outputs": []
    },
    {
      "cell_type": "markdown",
      "source": [
        "# x의 평균값을 구한다."
      ],
      "metadata": {
        "id": "_Rgz7WHdYDDu"
      }
    },
    {
      "cell_type": "code",
      "source": [
        "mx = np.mean(x)"
      ],
      "metadata": {
        "id": "P9zQkVmeYFU_"
      },
      "execution_count": 3,
      "outputs": []
    },
    {
      "cell_type": "markdown",
      "source": [
        "# y의 평균값을 구한다."
      ],
      "metadata": {
        "id": "c8ct2DtQYJWg"
      }
    },
    {
      "cell_type": "code",
      "source": [
        "my = np.mean(y)"
      ],
      "metadata": {
        "id": "IHry53LeYLBh"
      },
      "execution_count": 4,
      "outputs": []
    },
    {
      "cell_type": "markdown",
      "source": [
        "# 출력으로 확인"
      ],
      "metadata": {
        "id": "zs8EmTS4YSb0"
      }
    },
    {
      "cell_type": "code",
      "source": [
        "print(\"x의 평균값: \", mx)\n",
        "print(\"y의 평균값: \", my)"
      ],
      "metadata": {
        "colab": {
          "base_uri": "https://localhost:8080/"
        },
        "id": "LD0mEHFiYT-6",
        "outputId": "48dd4235-4af6-4dd9-bce2-1ab59b74e869"
      },
      "execution_count": 5,
      "outputs": [
        {
          "output_type": "stream",
          "name": "stdout",
          "text": [
            "x의 평균값:  5.0\n",
            "y의 평균값:  90.5\n"
          ]
        }
      ]
    },
    {
      "cell_type": "markdown",
      "source": [
        "# 기울기 공식의 분모 부분"
      ],
      "metadata": {
        "id": "7jCaNzSVY0Xn"
      }
    },
    {
      "cell_type": "code",
      "source": [
        "divisor = sum([(i - mx) ** 2 for i in x])"
      ],
      "metadata": {
        "id": "RcjVtjRgYso2"
      },
      "execution_count": 6,
      "outputs": []
    },
    {
      "cell_type": "markdown",
      "source": [
        "# 기울기 공식의 분자 부분"
      ],
      "metadata": {
        "id": "83_MzW75ZDBQ"
      }
    },
    {
      "cell_type": "code",
      "source": [
        "def top(x, mx, y, my):\n",
        "  d = 0\n",
        "  for i in range(len(x)):\n",
        "    d += (x[i] - mx) * (y[i] - my)\n",
        "  return d\n",
        "dividend = top(x, mx, y, my)"
      ],
      "metadata": {
        "id": "GZZDGVhsZCJ4"
      },
      "execution_count": 7,
      "outputs": []
    },
    {
      "cell_type": "markdown",
      "source": [
        "# 출력으로 확인"
      ],
      "metadata": {
        "id": "TtGX2vBpZWkc"
      }
    },
    {
      "cell_type": "code",
      "source": [
        "print(\"분모: \", divisor)\n",
        "print(\"분자: \", dividend)"
      ],
      "metadata": {
        "colab": {
          "base_uri": "https://localhost:8080/"
        },
        "id": "8s2k-aL5ZXz6",
        "outputId": "a5e4ffc8-b363-4e7f-c108-c8861b207966"
      },
      "execution_count": 8,
      "outputs": [
        {
          "output_type": "stream",
          "name": "stdout",
          "text": [
            "분모:  20.0\n",
            "분자:  46.0\n"
          ]
        }
      ]
    },
    {
      "cell_type": "markdown",
      "source": [
        "# 기울기 a 구하는 공식"
      ],
      "metadata": {
        "id": "6BiyxuxiZe_T"
      }
    },
    {
      "cell_type": "code",
      "source": [
        "a = dividend / divisor"
      ],
      "metadata": {
        "id": "FrPMy14QZhNt"
      },
      "execution_count": 9,
      "outputs": []
    },
    {
      "cell_type": "markdown",
      "source": [
        "# y절편 b를 구하는 공식"
      ],
      "metadata": {
        "id": "HxxC-DbyZmSr"
      }
    },
    {
      "cell_type": "code",
      "source": [
        "b = my - (mx*a)"
      ],
      "metadata": {
        "id": "NnwApoJmZpEF"
      },
      "execution_count": 10,
      "outputs": []
    },
    {
      "cell_type": "markdown",
      "source": [
        "# 출력으로 확인"
      ],
      "metadata": {
        "id": "FgN-5jn7Zsrq"
      }
    },
    {
      "cell_type": "code",
      "source": [
        "print(\"기울기 a = \", a)\n",
        "print(\"y절편 b = \", b)"
      ],
      "metadata": {
        "colab": {
          "base_uri": "https://localhost:8080/"
        },
        "id": "uHdx3hWUZt7u",
        "outputId": "9fc5afb1-a857-448a-982e-69679a120201"
      },
      "execution_count": 11,
      "outputs": [
        {
          "output_type": "stream",
          "name": "stdout",
          "text": [
            "기울기 a =  2.3\n",
            "y절편 b =  79.0\n"
          ]
        }
      ]
    },
    {
      "cell_type": "markdown",
      "source": [
        "# Mean Square Error, MSE (평균 제곱 오차)"
      ],
      "metadata": {
        "id": "qovJvUwUb1uB"
      }
    },
    {
      "cell_type": "markdown",
      "source": [
        "# 가상의 기울기 a와 y절편 b를 정한다."
      ],
      "metadata": {
        "id": "8cbZwon_ceY4"
      }
    },
    {
      "cell_type": "code",
      "source": [
        "fake_a = 3\n",
        "fake_b = 76"
      ],
      "metadata": {
        "id": "dohDG6Iub9oM"
      },
      "execution_count": 12,
      "outputs": []
    },
    {
      "cell_type": "markdown",
      "source": [
        "# 공부시간 x와 성적 y의 넘파이 배열을 만든다."
      ],
      "metadata": {
        "id": "pMIj1RXacilF"
      }
    },
    {
      "cell_type": "code",
      "source": [
        "x = np.array([2, 4, 6, 8])\n",
        "y = np.array([81, 93, 91, 97])"
      ],
      "metadata": {
        "id": "X4i9gVOMcUSN"
      },
      "execution_count": 13,
      "outputs": []
    },
    {
      "cell_type": "markdown",
      "source": [
        "# y = ax + b에 가상의 a 값과 b 값을 대입한 결과를 출력하는 함수"
      ],
      "metadata": {
        "id": "IovsjP17cxp0"
      }
    },
    {
      "cell_type": "code",
      "source": [
        "def predict(x):\n",
        "  return fake_a * x + fake_b"
      ],
      "metadata": {
        "id": "uev61ovOcwQH"
      },
      "execution_count": 14,
      "outputs": []
    },
    {
      "cell_type": "markdown",
      "source": [
        "# 예측 값이 들어갈 빈 리스트"
      ],
      "metadata": {
        "id": "1acQv_b8c-T5"
      }
    },
    {
      "cell_type": "code",
      "source": [
        "predict_result = []"
      ],
      "metadata": {
        "id": "1WS982xjc80I"
      },
      "execution_count": 15,
      "outputs": []
    },
    {
      "cell_type": "markdown",
      "source": [
        "# 모든 x 값을 한 번씩 대입해 predict_result 리스트를 완성한다."
      ],
      "metadata": {
        "id": "XTyQhtiGdD6b"
      }
    },
    {
      "cell_type": "code",
      "source": [
        "for i in range(len(x)):\n",
        "  predict_result.append(predict(x[i]))\n",
        "  print(\"공부시간=%.f, 실제점수=%.f, 예측점수=%.f\" % (x[i], y[i], predict(x[i])))"
      ],
      "metadata": {
        "colab": {
          "base_uri": "https://localhost:8080/"
        },
        "id": "0tITfFEZdI9c",
        "outputId": "f51e6339-b319-4622-9bf6-14ca37aa3b4e"
      },
      "execution_count": 16,
      "outputs": [
        {
          "output_type": "stream",
          "name": "stdout",
          "text": [
            "공부시간=2, 실제점수=81, 예측점수=82\n",
            "공부시간=4, 실제점수=93, 예측점수=88\n",
            "공부시간=6, 실제점수=91, 예측점수=94\n",
            "공부시간=8, 실제점수=97, 예측점수=100\n"
          ]
        }
      ]
    },
    {
      "cell_type": "markdown",
      "source": [
        "# 평균 제곱 오차 함수를 각 y 값에 대입해 최종 값을 구하는 함수"
      ],
      "metadata": {
        "id": "0jnGUqPxdlOP"
      }
    },
    {
      "cell_type": "code",
      "source": [
        "n = len(x)\n",
        "def mse(y, y_pred):\n",
        "  return (1/n) * sum((y - y_pred) ** 2)"
      ],
      "metadata": {
        "id": "4VBiCgjndXyB"
      },
      "execution_count": 17,
      "outputs": []
    },
    {
      "cell_type": "markdown",
      "source": [
        "# MSE 출력"
      ],
      "metadata": {
        "id": "ZmxC-GZ8dygt"
      }
    },
    {
      "cell_type": "code",
      "source": [
        "print(\"평균 제곱 오차: \" + str(mse(y, predict_result)))"
      ],
      "metadata": {
        "colab": {
          "base_uri": "https://localhost:8080/"
        },
        "id": "40K_HsWfdq3J",
        "outputId": "adcdef19-f523-44c2-e764-f6ff83447f35"
      },
      "execution_count": 18,
      "outputs": [
        {
          "output_type": "stream",
          "name": "stdout",
          "text": [
            "평균 제곱 오차: 11.0\n"
          ]
        }
      ]
    },
    {
      "cell_type": "code",
      "source": [],
      "metadata": {
        "id": "sOYP5RZNd8PX"
      },
      "execution_count": 18,
      "outputs": []
    }
  ]
}