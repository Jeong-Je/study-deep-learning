{
  "nbformat": 4,
  "nbformat_minor": 0,
  "metadata": {
    "colab": {
      "provenance": [],
      "authorship_tag": "ABX9TyPQ4fKY0HYibG1572+QHAca",
      "include_colab_link": true
    },
    "kernelspec": {
      "name": "python3",
      "display_name": "Python 3"
    },
    "language_info": {
      "name": "python"
    }
  },
  "cells": [
    {
      "cell_type": "markdown",
      "metadata": {
        "id": "view-in-github",
        "colab_type": "text"
      },
      "source": [
        "<a href=\"https://colab.research.google.com/github/Jeong-Je/study-deep-learning/blob/main/xor_problem.ipynb\" target=\"_parent\"><img src=\"https://colab.research.google.com/assets/colab-badge.svg\" alt=\"Open In Colab\"/></a>"
      ]
    },
    {
      "cell_type": "markdown",
      "source": [
        "# 다층 퍼셉트론으로 XOR 문제 해결하기"
      ],
      "metadata": {
        "id": "C7nNHOBpUVN3"
      }
    },
    {
      "cell_type": "code",
      "execution_count": 1,
      "metadata": {
        "id": "5b9dY3lkUKrx"
      },
      "outputs": [],
      "source": [
        "import numpy as np"
      ]
    },
    {
      "cell_type": "code",
      "source": [
        "# 가중치와 바이어스\n",
        "w11 = np.array([-2, -2])\n",
        "w12 = np.array([2, 2])\n",
        "w2 = np.array([1, 1])\n",
        "b1 =3\n",
        "b2 = -1\n",
        "b3 = -1"
      ],
      "metadata": {
        "id": "f--ycxnPUbM1"
      },
      "execution_count": 2,
      "outputs": []
    },
    {
      "cell_type": "code",
      "source": [
        "# 퍼셉트론\n",
        "def MLP(x, w, b):\n",
        "    y = np.sum(w * x) + b\n",
        "    if y <= 0:\n",
        "        return 0\n",
        "    else:\n",
        "        return 1"
      ],
      "metadata": {
        "id": "6X4Yk-I1UoCc"
      },
      "execution_count": 3,
      "outputs": []
    },
    {
      "cell_type": "code",
      "source": [
        "# NAND 게이트\n",
        "def NAND(x1, x2):\n",
        "  return MLP(np.array([x1, x2]), w11, b1)"
      ],
      "metadata": {
        "id": "j_O_BBCfUyXW"
      },
      "execution_count": 4,
      "outputs": []
    },
    {
      "cell_type": "code",
      "source": [
        "# OR 게이트\n",
        "def OR(x1, x2):\n",
        "  return MLP(np.array([x1, x2]), w12, b2)"
      ],
      "metadata": {
        "id": "JZ1IlNBoU_bk"
      },
      "execution_count": 5,
      "outputs": []
    },
    {
      "cell_type": "code",
      "source": [
        "# AND 게이트\n",
        "def AND(x1, x2):\n",
        "  return MLP(np.array([x1, x2]), w2, b3)"
      ],
      "metadata": {
        "id": "BBqGcqQPVJYy"
      },
      "execution_count": 6,
      "outputs": []
    },
    {
      "cell_type": "code",
      "source": [
        "# XOR 게이트\n",
        "def XOR(x1, x2):\n",
        "  return AND(NAND(x1, x2), OR(x1, x2))"
      ],
      "metadata": {
        "id": "fEBHCe8yVQtv"
      },
      "execution_count": 7,
      "outputs": []
    },
    {
      "cell_type": "code",
      "source": [
        "# x1 값, x2 값을 번갈아 대입하며 최종 값 출력\n",
        "for x in [(0, 0), (1,0), (0,1), (1,1)]:\n",
        "  y = XOR(x[0], x[1])\n",
        "  print(\"입력 값: \" + str(x) + \" 출력 값: \" + str(y))"
      ],
      "metadata": {
        "colab": {
          "base_uri": "https://localhost:8080/"
        },
        "id": "GEJOodmaVWKA",
        "outputId": "6d117bc7-c0d7-49cf-e75a-ea2261d40687"
      },
      "execution_count": 8,
      "outputs": [
        {
          "output_type": "stream",
          "name": "stdout",
          "text": [
            "입력 값: (0, 0) 출력 값: 0\n",
            "입력 값: (1, 0) 출력 값: 1\n",
            "입력 값: (0, 1) 출력 값: 1\n",
            "입력 값: (1, 1) 출력 값: 0\n"
          ]
        }
      ]
    },
    {
      "cell_type": "code",
      "source": [],
      "metadata": {
        "id": "IN5rujBCVk8T"
      },
      "execution_count": null,
      "outputs": []
    }
  ]
}